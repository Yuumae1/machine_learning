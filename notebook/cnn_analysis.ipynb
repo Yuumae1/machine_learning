{
 "cells": [
  {
   "cell_type": "code",
   "execution_count": 1,
   "metadata": {},
   "outputs": [
    {
     "name": "stdout",
     "output_type": "stream",
     "text": [
      "data =  ['arr_0', 'arr_1']\n"
     ]
    }
   ],
   "source": [
    "import numpy as np\n",
    "from numpy.linalg.linalg import norm\n",
    "import matplotlib.pyplot as plt\n",
    "import matplotlib.ticker as mticker\n",
    "from matplotlib.markers import MarkerStyle\n",
    "import cartopy.crs as ccrs\n",
    "import cartopy.feature as cfeaturel\n",
    "import pandas as pd\n",
    "\n",
    "\n",
    "# データの読み込み\n",
    "data = np.load('/home/maeda/machine_learning/results/cnn-2d/kikuchi_7vals_no-lag0day.npz')\n",
    "print('data = ', data.files)"
   ]
  },
  {
   "cell_type": "code",
   "execution_count": 6,
   "metadata": {},
   "outputs": [
    {
     "name": "stdout",
     "output_type": "stream",
     "text": [
      "predict =  (2486, 2)\n",
      "time =  2015-01-01 00:00:00 2021-10-21 00:00:00\n"
     ]
    }
   ],
   "source": [
    "predict = data['arr_0']\n",
    "test = data['arr_1']\n",
    "print('predict = ', predict.shape)\n",
    "rt = pd.date_range('2015-01-01', periods=2486, freq='D')\n",
    "print('time = ', rt[0], rt[-1])"
   ]
  },
  {
   "cell_type": "code",
   "execution_count": 11,
   "metadata": {},
   "outputs": [
    {
     "name": "stdout",
     "output_type": "stream",
     "text": [
      "predict_jja =  (644, 2)\n"
     ]
    }
   ],
   "source": [
    "jja = rt.month.isin([6, 7, 8])\n",
    "djf = rt.month.isin([12, 1, 2])\n",
    "mjjaso = rt.month.isin([5, 6, 7, 8, 9, 10])\n",
    "\n",
    "predict_jja = predict[jja]\n",
    "test_jja = test[jja]\n",
    "predict_mjjaso = predict[mjjaso]\n",
    "test_mjjaso = test[mjjaso]\n",
    "predict_djf = predict[djf]\n",
    "test_djf = test[djf]\n",
    "print('predict_jja = ', predict_jja.shape)"
   ]
  },
  {
   "cell_type": "code",
   "execution_count": 12,
   "metadata": {},
   "outputs": [
    {
     "name": "stdout",
     "output_type": "stream",
     "text": [
      "lead time 0 day =  0.9009876777887188\n",
      "lead time 0 day =  0.9238028263274365\n",
      "lead time 0 day =  0.8296225779838887\n",
      "lead time 0 day =  0.8791438214180565\n"
     ]
    }
   ],
   "source": [
    "# 相関係数の計算\n",
    "def culc_cor(test_data, pred_data):\n",
    "    j = 0\n",
    "    cor = (np.sum(pred_data[:,2*j] * test_data[:,2*j], axis=0) + np.sum(pred_data[:,2*j+1] * test_data[:,2*j+1], axis=0)) / \\\n",
    "            (np.sqrt(np.sum(pred_data[:,2*j] ** 2 + pred_data[:,2*j+1] ** 2, axis=0)) * np.sqrt(np.sum(test_data[:,2*j] ** 2 + test_data[:,2*j+1] ** 2, axis=0)))\n",
    "    print('lead time {} day = '.format(j), cor)\n",
    "    \n",
    "    return cor\n",
    "\n",
    "cor_mjjaso = culc_cor(test_mjjaso, predict_mjjaso)\n",
    "cor_jja = culc_cor(test_jja, predict_jja)\n",
    "cor_djf = culc_cor(test_djf, predict_djf)\n",
    "cor_all = culc_cor(test, predict)"
   ]
  }
 ],
 "metadata": {
  "kernelspec": {
   "display_name": "myenv",
   "language": "python",
   "name": "python3"
  },
  "language_info": {
   "codemirror_mode": {
    "name": "ipython",
    "version": 3
   },
   "file_extension": ".py",
   "mimetype": "text/x-python",
   "name": "python",
   "nbconvert_exporter": "python",
   "pygments_lexer": "ipython3",
   "version": "3.12.2"
  }
 },
 "nbformat": 4,
 "nbformat_minor": 2
}
