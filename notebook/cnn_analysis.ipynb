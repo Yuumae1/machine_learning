{
 "cells": [
  {
   "cell_type": "code",
   "execution_count": 15,
   "metadata": {},
   "outputs": [],
   "source": [
    "import numpy as np\n",
    "from numpy.linalg.linalg import norm\n",
    "import matplotlib.pyplot as plt\n",
    "import matplotlib.ticker as mticker\n",
    "from matplotlib.markers import MarkerStyle\n",
    "import cartopy.crs as ccrs\n",
    "import cartopy.feature as cfeaturel\n",
    "import pandas as pd\n",
    "\n",
    "# データの読み込み os.path.join を用いる\n",
    "\n",
    "lt_0 = '/home/maeda/machine_learning/results/kikuchi-7vals_v1/cor/result-value_7vals_0day.npz'\n",
    "lt_1 = '/home/maeda/machine_learning/results/kikuchi-7vals_v1/cor/result-value_7vals_1day.npz'\n",
    "lt_3 = '/home/maeda/machine_learning/results/kikuchi-7vals_v1/cor/result-value_7vals_3day.npz'\n",
    "lt_5 = '/home/maeda/machine_learning/results/kikuchi-7vals_v1/cor/result-value_7vals_5day.npz'\n",
    "lt_10 = '/home/maeda/machine_learning/results/kikuchi-7vals_v1/cor/result-value_7vals_10day.npz'\n",
    "#lt_15 = '/home/maeda/machine_learning/results/kikuchi-7vals_v1/cor/result-value_7vals_15day.npz'\n",
    "#lt_20 = '/home/maeda/machine_learning/results/kikuchi-7vals_v1/cor/result-value_7vals_20day.npz'\n",
    "#lt_25 = '/home/maeda/machine_learning/results/kikuchi-7vals_v1/cor/result-value_7vals_25day.npz'\n",
    "#lt_30 = '/home/maeda/machine_learning/results/kikuchi-7vals_v1/cor/result-value_7vals_30day.npz'\n",
    "#lt_35 = '/home/maeda/machine_learning/results/kikuchi-7vals_v1/cor/result-value_7vals_35day.npz'\n",
    "\n",
    "df_0 = np.load(lt_0)\n",
    "df_1 = np.load(lt_1)\n",
    "df_3 = np.load(lt_3)\n",
    "df_5 = np.load(lt_5)\n",
    "df_10 = np.load(lt_10)\n",
    "#df_15 = np.load(lt_15)\n",
    "#df_20 = np.load(lt_20)\n",
    "#df_25 = np.load(lt_25)\n",
    "#df_30 = np.load(lt_30)\n",
    "#df_35 = np.load(lt_35)\n"
   ]
  },
  {
   "cell_type": "code",
   "execution_count": 16,
   "metadata": {},
   "outputs": [
    {
     "name": "stdout",
     "output_type": "stream",
     "text": [
      "pred, sup =  (2486, 2) (2486, 2)\n",
      "pred, sup =  (2485, 2) (2485, 2)\n",
      "pred, sup =  (2483, 2) (2483, 2)\n",
      "pred, sup =  (2481, 2) (2481, 2)\n",
      "pred, sup =  (2476, 2) (2476, 2)\n"
     ]
    }
   ],
   "source": [
    "df_box = [df_0, df_1, df_3, df_5, df_10]\n",
    "pred = []\n",
    "sup  = []\n",
    "for data in df_box:\n",
    "    pred_i = data['arr_0']\n",
    "    sup_i = data['arr_1']\n",
    "    pred.append(pred_i)\n",
    "    sup.append(sup_i)\n",
    "    print('pred, sup = ', pred_i.shape, sup_i.shape)"
   ]
  },
  {
   "cell_type": "code",
   "execution_count": 19,
   "metadata": {},
   "outputs": [],
   "source": [
    "# 相関係数の計算\n",
    "def culc_cor(test_data, pred_data):\n",
    "    j = 0\n",
    "    cor = (np.sum(pred_data[:,2*j] * test_data[:,2*j], axis=0) + np.sum(pred_data[:,2*j+1] * test_data[:,2*j+1], axis=0)) / \\\n",
    "            (np.sqrt(np.sum(pred_data[:,2*j] ** 2 + pred_data[:,2*j+1] ** 2, axis=0)) * np.sqrt(np.sum(test_data[:,2*j] ** 2 + test_data[:,2*j+1] ** 2, axis=0)))\n",
    "    print('cor : = ', cor)\n",
    "    return cor"
   ]
  },
  {
   "cell_type": "code",
   "execution_count": 28,
   "metadata": {},
   "outputs": [
    {
     "name": "stdout",
     "output_type": "stream",
     "text": [
      "=== lead time : 0 day ===\n",
      "cor : =  0.9227219725152616\n",
      "cor : =  0.9428084465743113\n",
      "cor : =  0.8524665384888211\n",
      "cor : =  0.905067289630523\n",
      "=== lead time : 1 day ===\n",
      "cor : =  0.92509140271826\n",
      "cor : =  0.943877485406875\n",
      "cor : =  0.870392842701287\n",
      "cor : =  0.9102459052311206\n",
      "=== lead time : 3 day ===\n",
      "cor : =  0.9201369517241167\n",
      "cor : =  0.9392529673143977\n",
      "cor : =  0.875362872099664\n",
      "cor : =  0.9072757561360907\n",
      "=== lead time : 5 day ===\n",
      "cor : =  0.9008554470921417\n",
      "cor : =  0.9248893479026341\n",
      "cor : =  0.8479215357345208\n",
      "cor : =  0.8881419127874155\n",
      "=== lead time : 10 day ===\n",
      "cor : =  0.8504333160066966\n",
      "cor : =  0.8805689042011156\n",
      "cor : =  0.7670594792793349\n",
      "cor : =  0.8240776560688912\n"
     ]
    }
   ],
   "source": [
    "lead_time = [0, 1, 3, 5, 10]\n",
    "for i in range(len(pred)):\n",
    "    rt = pd.date_range('2015-01-01', periods=len(pred[i]), freq='D')    # real time のインデックスは'与えるデータの初期時刻'で定めておく\n",
    "    \n",
    "    jja = jja = rt.month.isin([6, 7, 8])\n",
    "    djf = rt.month.isin([12, 1, 2])\n",
    "    mjjaso = rt.month.isin([5, 6, 7, 8, 9, 10])\n",
    "    pred_jja     = pred[i][jja]\n",
    "    pred_mjjaso  = pred[i][mjjaso]\n",
    "    pred_djf     = pred[i][djf]\n",
    "    sup_jja      = sup[i][jja]\n",
    "    sup_mjjaso   = sup[i][mjjaso]\n",
    "    sup_djf      = sup[i][djf]\n",
    "    print('=== lead time : {} day ==='.format(lead_time[i]))\n",
    "    cor_mjjaso  = culc_cor(sup_mjjaso, pred_mjjaso)\n",
    "    cor_jja     = culc_cor(sup_jja, pred_jja)\n",
    "    cor_djf     = culc_cor(sup_djf, pred_djf)\n",
    "    cor_all     = culc_cor(sup[i], pred[i])"
   ]
  },
  {
   "cell_type": "code",
   "execution_count": 15,
   "metadata": {},
   "outputs": [
    {
     "name": "stdout",
     "output_type": "stream",
     "text": [
      "month : 1 =  0.8352629080287649\n",
      "month : 2 =  0.7414047289212926\n",
      "month : 3 =  0.7806381275093182\n",
      "month : 4 =  0.8214464525137901\n",
      "month : 5 =  0.8929108300176757\n",
      "month : 6 =  0.9443677497530172\n",
      "month : 7 =  0.9420884070830291\n",
      "month : 8 =  0.8710973593881842\n",
      "month : 9 =  0.8379267244754619\n",
      "month : 10 =  0.8671322971747494\n",
      "month : 11 =  0.8766709508309971\n",
      "month : 12 =  0.8887365538988722\n"
     ]
    }
   ],
   "source": [
    "for m in range(1, 13):\n",
    "    mm = rt.month == m\n",
    "    predict_month = predict[mm]\n",
    "    test_month = test[mm]\n",
    "    cor = culc_cor(test_month, predict_month, m)"
   ]
  }
 ],
 "metadata": {
  "kernelspec": {
   "display_name": "myenv",
   "language": "python",
   "name": "python3"
  },
  "language_info": {
   "codemirror_mode": {
    "name": "ipython",
    "version": 3
   },
   "file_extension": ".py",
   "mimetype": "text/x-python",
   "name": "python",
   "nbconvert_exporter": "python",
   "pygments_lexer": "ipython3",
   "version": "3.12.2"
  }
 },
 "nbformat": 4,
 "nbformat_minor": 2
}
