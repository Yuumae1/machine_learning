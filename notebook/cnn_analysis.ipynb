{
 "cells": [
  {
   "cell_type": "code",
   "execution_count": 1,
   "metadata": {},
   "outputs": [
    {
     "name": "stdout",
     "output_type": "stream",
     "text": [
      "data =  ['arr_0', 'arr_1']\n"
     ]
    }
   ],
   "source": [
    "import numpy as np\n",
    "from numpy.linalg.linalg import norm\n",
    "import matplotlib.pyplot as plt\n",
    "import matplotlib.ticker as mticker\n",
    "from matplotlib.markers import MarkerStyle\n",
    "import cartopy.crs as ccrs\n",
    "import cartopy.feature as cfeaturel\n",
    "import pandas as pd\n",
    "\n",
    "\n",
    "# データの読み込み\n",
    "data = np.load('/home/maeda/machine_learning/results/cnn-2d/kikuchi_7vals_no-lag0day.npz')\n",
    "print('data = ', data.files)"
   ]
  },
  {
   "cell_type": "code",
   "execution_count": 6,
   "metadata": {},
   "outputs": [
    {
     "name": "stdout",
     "output_type": "stream",
     "text": [
      "predict =  (2486, 2)\n",
      "time =  2015-01-01 00:00:00 2021-10-21 00:00:00\n"
     ]
    }
   ],
   "source": [
    "predict = data['arr_0']\n",
    "test = data['arr_1']\n",
    "print('predict = ', predict.shape)\n",
    "rt = pd.date_range('2015-01-01', periods=2486, freq='D')\n",
    "print('time = ', rt[0], rt[-1])"
   ]
  },
  {
   "cell_type": "code",
   "execution_count": 11,
   "metadata": {},
   "outputs": [
    {
     "name": "stdout",
     "output_type": "stream",
     "text": [
      "predict_jja =  (644, 2)\n"
     ]
    }
   ],
   "source": [
    "jja = rt.month.isin([6, 7, 8])\n",
    "djf = rt.month.isin([12, 1, 2])\n",
    "mjjaso = rt.month.isin([5, 6, 7, 8, 9, 10])\n",
    "\n",
    "predict_jja = predict[jja]\n",
    "test_jja = test[jja]\n",
    "predict_mjjaso = predict[mjjaso]\n",
    "test_mjjaso = test[mjjaso]\n",
    "predict_djf = predict[djf]\n",
    "test_djf = test[djf]\n",
    "print('predict_jja = ', predict_jja.shape)"
   ]
  },
  {
   "cell_type": "code",
   "execution_count": 14,
   "metadata": {},
   "outputs": [
    {
     "ename": "TypeError",
     "evalue": "culc_cor() missing 1 required positional argument: 'month'",
     "output_type": "error",
     "traceback": [
      "\u001b[0;31m---------------------------------------------------------------------------\u001b[0m",
      "\u001b[0;31mTypeError\u001b[0m                                 Traceback (most recent call last)",
      "Cell \u001b[0;32mIn[14], line 10\u001b[0m\n\u001b[1;32m      6\u001b[0m     \u001b[38;5;28mprint\u001b[39m(\u001b[38;5;124m'\u001b[39m\u001b[38;5;124mmonth : \u001b[39m\u001b[38;5;132;01m{}\u001b[39;00m\u001b[38;5;124m = \u001b[39m\u001b[38;5;124m'\u001b[39m\u001b[38;5;241m.\u001b[39mformat(month), cor)\n\u001b[1;32m      8\u001b[0m     \u001b[38;5;28;01mreturn\u001b[39;00m cor\n\u001b[0;32m---> 10\u001b[0m cor_mjjaso \u001b[38;5;241m=\u001b[39m culc_cor(test_mjjaso, predict_mjjaso)\n\u001b[1;32m     11\u001b[0m cor_jja \u001b[38;5;241m=\u001b[39m culc_cor(test_jja, predict_jja)\n\u001b[1;32m     12\u001b[0m cor_djf \u001b[38;5;241m=\u001b[39m culc_cor(test_djf, predict_djf)\n",
      "\u001b[0;31mTypeError\u001b[0m: culc_cor() missing 1 required positional argument: 'month'"
     ]
    }
   ],
   "source": [
    "# 相関係数の計算\n",
    "def culc_cor(test_data, pred_data, month):\n",
    "    j = 0\n",
    "    cor = (np.sum(pred_data[:,2*j] * test_data[:,2*j], axis=0) + np.sum(pred_data[:,2*j+1] * test_data[:,2*j+1], axis=0)) / \\\n",
    "            (np.sqrt(np.sum(pred_data[:,2*j] ** 2 + pred_data[:,2*j+1] ** 2, axis=0)) * np.sqrt(np.sum(test_data[:,2*j] ** 2 + test_data[:,2*j+1] ** 2, axis=0)))\n",
    "    print('month : {} = '.format(month), cor)\n",
    "    \n",
    "    return cor\n",
    "   \n",
    "cor_mjjaso = culc_cor(test_mjjaso, predict_mjjaso)\n",
    "cor_jja = culc_cor(test_jja, predict_jja)\n",
    "cor_djf = culc_cor(test_djf, predict_djf)\n",
    "cor_all = culc_cor(test, predict)"
   ]
  },
  {
   "cell_type": "code",
   "execution_count": 15,
   "metadata": {},
   "outputs": [
    {
     "name": "stdout",
     "output_type": "stream",
     "text": [
      "month : 1 =  0.8352629080287649\n",
      "month : 2 =  0.7414047289212926\n",
      "month : 3 =  0.7806381275093182\n",
      "month : 4 =  0.8214464525137901\n",
      "month : 5 =  0.8929108300176757\n",
      "month : 6 =  0.9443677497530172\n",
      "month : 7 =  0.9420884070830291\n",
      "month : 8 =  0.8710973593881842\n",
      "month : 9 =  0.8379267244754619\n",
      "month : 10 =  0.8671322971747494\n",
      "month : 11 =  0.8766709508309971\n",
      "month : 12 =  0.8887365538988722\n"
     ]
    }
   ],
   "source": [
    "for m in range(1, 13):\n",
    "    mm = rt.month == m\n",
    "    predict_month = predict[mm]\n",
    "    test_month = test[mm]\n",
    "    cor = culc_cor(test_month, predict_month, m)"
   ]
  }
 ],
 "metadata": {
  "kernelspec": {
   "display_name": "myenv",
   "language": "python",
   "name": "python3"
  },
  "language_info": {
   "codemirror_mode": {
    "name": "ipython",
    "version": 3
   },
   "file_extension": ".py",
   "mimetype": "text/x-python",
   "name": "python",
   "nbconvert_exporter": "python",
   "pygments_lexer": "ipython3",
   "version": "3.12.2"
  }
 },
 "nbformat": 4,
 "nbformat_minor": 2
}
