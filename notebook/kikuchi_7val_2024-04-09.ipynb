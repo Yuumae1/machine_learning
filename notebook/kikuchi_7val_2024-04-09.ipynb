{
 "cells": [
  {
   "cell_type": "code",
   "execution_count": 1,
   "metadata": {},
   "outputs": [
    {
     "name": "stdout",
     "output_type": "stream",
     "text": [
      "data =  ['lat', 'lon', 'time', 'real_time', 'olr', 'u850', 'v850', 'u200', 'v200', 'h850', 'pr_wtr']\n"
     ]
    }
   ],
   "source": [
    "import numpy as np\n",
    "from numpy.linalg.linalg import norm\n",
    "#import tensorflow as tf\n",
    "#from tensorflow import keras\n",
    "#from tensorflow.keras import layers\n",
    "#import tensorflow as tf\n",
    "#from tensorflow.keras.models import Model\n",
    "#from keras.models import Sequential\n",
    "#from keras.layers import Dense, Dropout, Activation, Flatten\n",
    "#from keras.layers import Conv2D, MaxPooling2D, BatchNormalization, LayerNormalization\n",
    "#from keras.optimizers import Adam\n",
    "#from keras.optimizers import RMSprop\n",
    "#from keras.regularizers import l2\n",
    "import matplotlib.pyplot as plt\n",
    "import matplotlib.ticker as mticker\n",
    "from matplotlib.markers import MarkerStyle\n",
    "import cartopy.crs as ccrs\n",
    "import cartopy.feature as cfeature\n",
    "import pandas as pd\n",
    "\n",
    "\n",
    "# データの読み込み\n",
    "data = np.load('/home/maeda/data/bsiso_lee13/prepro_anomaly_7vals.npz')\n",
    "print('data = ', data.files)"
   ]
  },
  {
   "cell_type": "code",
   "execution_count": 16,
   "metadata": {},
   "outputs": [
    {
     "name": "stdout",
     "output_type": "stream",
     "text": [
      "(25,) (144,) (15556, 25, 144) (15556, 25, 144) (15556, 25, 144) (15556, 25, 144) (15556, 25, 144) (15556, 25, 144) (15556, 25, 144)\n",
      "1979-03-22 00:00:00 2021-10-22 00:00:00\n"
     ]
    }
   ],
   "source": [
    "lat = data['lat'][24:49]\n",
    "lon = data['lon']\n",
    "olr = data['olr'][80:-435,24:49,:]\n",
    "u850 = data['u850'][80:-435,24:49,:]\n",
    "v850 = data['v850'][80:-435,24:49,:]\n",
    "u200 = data['u200'][80:-435,24:49,:]\n",
    "v200 = data['v200'][80:-435,24:49,:]\n",
    "h850 = data['h850'][80:-435,24:49,:]\n",
    "pr_wtr = data['pr_wtr'][80:-435,24:49,:]\n",
    "time = data['time'][80:-435]\n",
    "real_time = pd.to_datetime(time, unit='h', origin=pd.Timestamp('1800-01-01')) # 時刻をdatetime型に変換\n",
    "print(lat.shape, lon.shape, olr.shape, u850.shape, v850.shape, u200.shape, v200.shape, h850.shape, pr_wtr.shape)\n",
    "print(real_time[0], real_time[-1])"
   ]
  },
  {
   "cell_type": "code",
   "execution_count": 17,
   "metadata": {},
   "outputs": [
    {
     "name": "stdout",
     "output_type": "stream",
     "text": [
      "Raw Data        =  125.99925062995904 -191.72708324469755\n",
      "Normalized Data =  7.704964842602574 -19.955042052030905\n",
      "Raw Data        =  36.59931389543901 -33.440710581927625\n",
      "Normalized Data =  8.445019621765717 -7.323080941264589\n",
      "Raw Data        =  33.573279469116336 -29.869047367771834\n",
      "Normalized Data =  11.417965337901181 -10.35929392602082\n",
      "Raw Data        =  59.14801304108833 -71.19605653246393\n",
      "Normalized Data =  7.687482060373113 -7.13136258235884\n",
      "Raw Data        =  68.2906863765084 -71.56800375378678\n",
      "Normalized Data =  7.676351093927562 -9.64070628852694\n",
      "Raw Data        =  155.87304853426116 -299.0225253344866\n",
      "Normalized Data =  5.565155482458696 -11.301119272354802\n",
      "Raw Data        =  46.15640080135331 -42.05674743351691\n",
      "Normalized Data =  8.603196998553319 -7.0538494118246735\n"
     ]
    }
   ],
   "source": [
    "# 標準化処理\n",
    "def normalization(data):\n",
    "  data_mean = np.mean(data, axis=0)\n",
    "  data_std  = np.std(data, axis=0)\n",
    "  data_norm = (data - data_mean) / data_std\n",
    "  print('Raw Data        = ', data.max(), data.min())\n",
    "  print('Normalized Data = ', data_norm.max(), data_norm.min())\n",
    "  del data_mean, data_std\n",
    "  return data_norm\n",
    "\n",
    "olr_norm  = normalization(olr)\n",
    "u850_norm = normalization(u850)\n",
    "v850_norm = normalization(v850)\n",
    "u200_norm = normalization(u200)\n",
    "v200_norm = normalization(v200)\n",
    "h850_norm = normalization(h850)\n",
    "pr_wtr_norm = normalization(pr_wtr)"
   ]
  },
  {
   "cell_type": "code",
   "execution_count": 19,
   "metadata": {},
   "outputs": [
    {
     "name": "stdout",
     "output_type": "stream",
     "text": [
      "month =  (15556,)\n",
      "phase =  (15556,)\n",
      "PC =  (15556, 2)\n",
      "Amp_nrm_bsiso =  (15556,)\n",
      "[1979 1979 1979 ... 2021 2021 2021] [ 3  3  3 ... 10 10 10] [22 23 24 ... 20 21 22]\n"
     ]
    }
   ],
   "source": [
    "# bsiso index (eEOF) 読み込み\n",
    "data_file = '/home/maeda/archive/kikuchi_bsiso_index.dat'\n",
    "\n",
    "year    = np.loadtxt(data_file, usecols = 0, dtype = int)\n",
    "month   = np.loadtxt(data_file, usecols = 1, dtype = int)\n",
    "day     = np.loadtxt(data_file, usecols = 2, dtype = int)\n",
    "PC     = np.loadtxt(data_file, usecols = [3, 4])\n",
    "#PCy     = np.loadtxt(data_file, usecols = 4)\n",
    "phase   = np.loadtxt(data_file, usecols = 5, dtype = int)\n",
    "Amp_nrm_bsiso = np.loadtxt(data_file, usecols = 6, dtype = float)\n",
    "#index = np.loadtxt(data_file)\n",
    "\n",
    "print('month = ', month.shape)\n",
    "print('phase = ', phase.shape)\n",
    "print( 'PC = ', PC.shape)\n",
    "print('Amp_nrm_bsiso = ', Amp_nrm_bsiso.shape)\n",
    "print(year, month, day)"
   ]
  },
  {
   "cell_type": "code",
   "execution_count": 20,
   "metadata": {},
   "outputs": [
    {
     "name": "stdout",
     "output_type": "stream",
     "text": [
      "output shape =  2\n",
      "(15546, 2)\n",
      "(2486, 2) (2486, 25, 144, 9) (13059, 25, 144, 9) (2486,) (2486,) (2486,) (2486,)\n"
     ]
    }
   ],
   "source": [
    "# 全て一律にずらしたあと、インデクシングする\n",
    "lead_time = 0\n",
    "multi_forcast = False\n",
    "if multi_forcast == True:\n",
    "  output_shape = 2 * (lead_time + 1)\n",
    "else:\n",
    "  output_shape = 2\n",
    "print('output shape = ', output_shape)\n",
    "\n",
    "amp = Amp_nrm_bsiso[10:-lead_time-1]\n",
    "ph = phase[10:-lead_time-1]\n",
    "yy = year[10:-lead_time-1]\n",
    "mm = month[10:-lead_time-1]\n",
    "dd = day[10:-lead_time-1]\n",
    "rt = real_time[10:-lead_time-1]\n",
    "# 教師データは前進させる\n",
    "if multi_forcast == True:\n",
    "  sup_data = []\n",
    "  for j in range(lead_time+1):\n",
    "    sup_j = PC[10+j:-lead_time-1+j]\n",
    "    sup_data.append(sup_j)\n",
    "  sup_data = np.array(sup_data).transpose(1,0,2).reshape(-1, output_shape)\n",
    "else:\n",
    "  sup_data = PC[10+lead_time:]\n",
    "print(sup_data.shape)\n",
    "\n",
    "\n",
    "# 入力データの前処理\n",
    "def preprocess(data):\n",
    "  ipt_lag0  = data[10:-lead_time-1]\n",
    "  ipt_lag5  = data[5:-lead_time-6]\n",
    "  ipt_lag10 = data[:-lead_time-11]\n",
    "\n",
    "  # =========\n",
    "  # 訓練データの作成(通年データとする)\n",
    "  idx = np.where((yy <= 2014))[0]\n",
    "  ipt_lag0_train = ipt_lag0[idx]\n",
    "  ipt_lag5_train = ipt_lag5[idx]\n",
    "  ipt_lag10_train = ipt_lag10[idx]\n",
    "  #ipt_train = np.concatenate([ipt_lag0_train, ipt_lag5_train, ipt_lag10_train], 1)\n",
    "  ipt_train = np.stack([ipt_lag0_train, ipt_lag5_train, ipt_lag10_train], 3)\n",
    "\n",
    "  # 検証データの作成\n",
    "  idx = np.where((yy > 2014))[0]\n",
    "  ipt_lag0_test = ipt_lag0[idx]\n",
    "  ipt_lag5_test = ipt_lag5[idx]\n",
    "  ipt_lag10_test = ipt_lag10[idx]\n",
    "  #ipt_test = np.concatenate([ipt_lag0_test, ipt_lag5_test, ipt_lag10_test], 1)\n",
    "  ipt_test = np.stack([ipt_lag0_test, ipt_lag5_test, ipt_lag10_test], 3)\n",
    "  return ipt_train, ipt_test\n",
    "\n",
    "olr_ipt_train, olr_ipt_test = preprocess(olr_norm)\n",
    "u850_ipt_train, u850_ipt_test = preprocess(u850_norm)\n",
    "v850_ipt_train, v850_ipt_test = preprocess(v850_norm)\n",
    "ipt_train = np.concatenate([olr_ipt_train, u850_ipt_train, v850_ipt_train], 3)\n",
    "ipt_test = np.concatenate([olr_ipt_test, u850_ipt_test, v850_ipt_test], 3)\n",
    "#ipt_train, ipt_test = v850_ipt_train, v850_ipt_test\n",
    "\n",
    "# その他のインデクシング\n",
    "idx = np.where((yy <= 2014))[0]\n",
    "sup_train = sup_data[idx]\n",
    "idx = np.where((yy > 2014))[0]\n",
    "sup_test = sup_data[idx]\n",
    "amp = amp[idx]\n",
    "ph = ph[idx]\n",
    "yy = yy[idx]\n",
    "mm = mm[idx]\n",
    "dd = dd[idx]\n",
    "rt = rt[idx]\n",
    "print(sup_test.shape, ipt_test.shape, ipt_train.shape, ph.shape, yy.shape, mm.shape, dd.shape)\n",
    "del olr_ipt_train, olr_ipt_test, u850_ipt_train, u850_ipt_test, v850_ipt_train, v850_ipt_test"
   ]
  },
  {
   "cell_type": "code",
   "execution_count": null,
   "metadata": {},
   "outputs": [],
   "source": []
  }
 ],
 "metadata": {
  "kernelspec": {
   "display_name": "myenv",
   "language": "python",
   "name": "python3"
  },
  "language_info": {
   "codemirror_mode": {
    "name": "ipython",
    "version": 3
   },
   "file_extension": ".py",
   "mimetype": "text/x-python",
   "name": "python",
   "nbconvert_exporter": "python",
   "pygments_lexer": "ipython3",
   "version": "3.12.2"
  }
 },
 "nbformat": 4,
 "nbformat_minor": 2
}
